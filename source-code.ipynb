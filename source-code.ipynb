{
 "cells": [
  {
   "cell_type": "markdown",
   "id": "43292c67-31cc-4b3c-9970-7f8c5004f91b",
   "metadata": {
    "tags": []
   },
   "source": [
    "<div style=\"background-color: rgba(255, 165, 0, 0.5); padding: 10px; color: white;\">\n",
    "    \n",
    "\n",
    "##### NB Format : Python API for working with notebook files\n",
    "\n",
    "documentation link: https://nbformat.readthedocs.io/en/latest/api.html\n",
    "    \n",
    "    \n",
    "\n",
    "</div>"
   ]
  },
  {
   "cell_type": "code",
   "execution_count": 17,
   "id": "90ea5a08-89f9-4543-8847-e04f9e12fe60",
   "metadata": {
    "tags": []
   },
   "outputs": [],
   "source": [
    "# Import the required module to work with Jupyter notebook files.\n",
    "import nbformat"
   ]
  },
  {
   "cell_type": "markdown",
   "id": "d5c2d06e-1352-4dc3-a777-1f52ed033e72",
   "metadata": {},
   "source": [
    "#### Opening the jupyter notebooks using nbformat"
   ]
  },
  {
   "cell_type": "code",
   "execution_count": 18,
   "id": "7a4d1f2a-5860-415f-a6c7-8fb7f0e26962",
   "metadata": {},
   "outputs": [],
   "source": [
    "# Define the path to the Jupyter notebook file to be analyzed.\n",
    "a = 'C:/Users/hp/Desktop/ML Projects/notebook line of code calculator/test-notebook.ipynb'\n",
    "\n",
    "\n",
    "# Open the notebook file in read mode with utf-8 encoding and read its content using nbformat.\n",
    "with open(a, 'r', encoding='utf-8') as nb_file:\n",
    "    notebook_content = nbformat.read(nb_file, as_version=4)"
   ]
  },
  {
   "cell_type": "code",
   "execution_count": 19,
   "id": "1e3246ca-a9a8-4cbc-a80e-f80ab3704966",
   "metadata": {},
   "outputs": [],
   "source": [
    "# Initialize variables to store the counts of code lines and markdown lines.\n",
    "code_lines = 0\n",
    "mk_lines = 0\n",
    "\n",
    "\n",
    "# Iterate through each cell in the notebook content.\n",
    "for cell in notebook_content['cells']:\n",
    "    \n",
    "    # Check if the current cell is of type 'code'.\n",
    "    if cell['cell_type'] == 'code':\n",
    "        \n",
    "        # If the cell is code, calculate the number of code lines in the cell\n",
    "        # by splitting the 'source' content using the newline character and counting the lines.\n",
    "        code_lines += len(cell['source'].split('\\n'))\n",
    "        \n",
    "    # Check if the current cell is of type 'markdown'.\n",
    "    elif cell['cell_type'] == 'markdown':\n",
    "        \n",
    "        # If the cell is markdown, calculate the number of markdown lines in the cell\n",
    "        # by splitting the 'source' content using the newline character and counting the lines.\n",
    "        mk_lines += len(cell['source'].split('\\n'))\n",
    "\n",
    "# Calculate the total number of lines in the notebook by adding code_lines and mk_lines.\n",
    "total_lines = code_lines + mk_lines"
   ]
  },
  {
   "cell_type": "code",
   "execution_count": 20,
   "id": "891bc577-52df-46bc-913f-e0f9eef7b0de",
   "metadata": {},
   "outputs": [
    {
     "name": "stdout",
     "output_type": "stream",
     "text": [
      "Lines of Code (LOC): 6\n"
     ]
    }
   ],
   "source": [
    "# Print the result, showing the total lines of code and markdown present in the notebook.\n",
    "print(f'Lines of Code (LOC): {total_lines}')"
   ]
  },
  {
   "cell_type": "markdown",
   "id": "3756e0a8-3b88-42ae-a53f-a1ea5ad6bc1c",
   "metadata": {},
   "source": [
    "<div style=\"background-color: rgba(255, 0, 0, 0.5); padding: 10px; color: white;\">\n",
    "    Note: Having an empty cell in the notebook counts as an extra line\n",
    "</div>\n"
   ]
  },
  {
   "cell_type": "code",
   "execution_count": null,
   "id": "f1840bc7-8700-46fb-b0ca-0c632664a249",
   "metadata": {},
   "outputs": [],
   "source": [
    "# Import the required module to work with Jupyter notebook files.\n",
    "import nbformat\n",
    "\n",
    "# Function: notebook_line_of_code_calculator\n",
    "# Description: This Python script calculates the total lines of code (LOC) and total lines of markdown text in a Jupyter notebook file.\n",
    "#              It parses the notebook's content using the nbformat library and extracts code and markdown cells for analysis.\n",
    "#              The result provides insights into the structure and content distribution of the notebook, aiding in assessing\n",
    "#              the size and complexity of notebooks with significant code and markdown sections.\n",
    "#              The script calculates the total number of lines of code and markdown, providing a quick overview of the notebook's content.\n",
    "\n",
    "# Import the nbformat library, which allows working with Jupyter notebook files.\n",
    "\n",
    "# Define the path to the Jupyter notebook file to be analyzed.\n",
    "a = 'C:/Users/hp/Desktop/ML Projects/notebook line of code calculator/test-notebook.ipynb'\n",
    "\n",
    "# Open the specified notebook file in read mode with utf-8 encoding.\n",
    "# Read the content of the notebook file and store it in the variable 'notebook_content'.\n",
    "# The nbformat.read() function reads the notebook content in version 4 format.\n",
    "with open(a, 'r', encoding='utf-8') as nb_file:\n",
    "    notebook_content = nbformat.read(nb_file, as_version=4)\n",
    "\n",
    "# Initialize variables to store the counts of code lines and markdown lines.\n",
    "code_lines = 0\n",
    "mk_lines = 0\n",
    "\n",
    "# Iterate through each cell in the notebook content to analyze its type and content.\n",
    "for cell in notebook_content['cells']:\n",
    "    # Check if the current cell is of type 'code'.\n",
    "    if cell['cell_type'] == 'code':\n",
    "        # If the cell is code, calculate the number of code lines in the cell.\n",
    "        # This is done by splitting the 'source' content of the cell using the newline character ('\\n')\n",
    "        # and counting the resulting lines. The count is then added to the 'code_lines' variable.\n",
    "        code_lines += len(cell['source'].split('\\n'))\n",
    "    # Check if the current cell is of type 'markdown'.\n",
    "    elif cell['cell_type'] == 'markdown':\n",
    "        # If the cell is markdown, calculate the number of markdown lines in the cell.\n",
    "        # This is achieved by splitting the 'source' content of the cell using the newline character ('\\n')\n",
    "        # and counting the resulting lines. The count is then added to the 'mk_lines' variable.\n",
    "        mk_lines += len(cell['source'].split('\\n'))\n",
    "\n",
    "# Calculate the total number of lines in the notebook by adding 'code_lines' and 'mk_lines'.\n",
    "total_lines = code_lines + mk_lines\n",
    "\n",
    "# Print the result, showing the total lines of code and markdown present in the notebook.\n",
    "print(f'Lines of Code (LOC): {total_lines}')\n"
   ]
  }
 ],
 "metadata": {
  "kernelspec": {
   "display_name": "Python 3 (ipykernel)",
   "language": "python",
   "name": "python3"
  },
  "language_info": {
   "codemirror_mode": {
    "name": "ipython",
    "version": 3
   },
   "file_extension": ".py",
   "mimetype": "text/x-python",
   "name": "python",
   "nbconvert_exporter": "python",
   "pygments_lexer": "ipython3",
   "version": "3.9.5"
  }
 },
 "nbformat": 4,
 "nbformat_minor": 5
}
